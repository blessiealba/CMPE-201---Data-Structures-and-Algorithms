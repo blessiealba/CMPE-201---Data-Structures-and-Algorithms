{
 "cells": [
  {
   "cell_type": "markdown",
   "metadata": {},
   "source": [
    "# Exercise 1: Temperature Converter\n",
    "Create a program that converts temperatures between Celsius and Fahrenheit.\n",
    "\n",
    "Instructions:\n",
    "1.\tAsk the user to input a temperature.\n",
    "2.\tAsk the user to select the conversion type: from Celsius to Fahrenheit or from Fahrenheit to Celsius.\n",
    "3.\tPerform the appropriate conversion and print the result.\n"
   ]
  },
  {
   "cell_type": "code",
   "execution_count": null,
   "metadata": {},
   "outputs": [],
   "source": [
    "# Function to convert Celsius to Fahrenheit\n",
    "def celsius_to_fahrenheit(celsius):\n",
    "    return (celsius * 9/5) + 32\n",
    "\n",
    "# Function to convert Fahrenheit to Celsius\n",
    "def fahrenheit_to_celsius(fahrenheit):\n",
    "    return (fahrenheit - 32) * 5/9\n",
    "\n",
    "# Get user input\n",
    "temp = float(input(\"Enter the temperature: \"))\n",
    "convert = input(\"Select conversion type (C to F / F to C): \").strip().upper()\n",
    "\n",
    "# Perform the conversion based on user input\n",
    "if convert == \"C TO F\":\n",
    "    result = celsius_to_fahrenheit(temp)\n",
    "    print(f\"{temp}°C is equal to {result:.2f}°F\")\n",
    "elif convert == \"F TO C\":\n",
    "    result = fahrenheit_to_celsius(temp)\n",
    "    print(f\"{temp}°F is equal to {result:.2f}°C\")\n",
    "else:\n",
    "    print(\"Invalid! Please enter 'C to F' or 'F to C'.\")"
   ]
  },
  {
   "cell_type": "markdown",
   "metadata": {},
   "source": [
    "# Exercise 2: Ohm’s Law Calculator\n",
    "\n",
    "Instructions:\n",
    "1.\tAsk the user what they want to calculate: Voltage, Current, or Resistance.\n",
    "2.\tBased on their choice, prompt the user to input the appropriate values.\n",
    "3.\tUse Ohm's Law to calculate the missing variable and display the result.\n",
    "4.\tHandle cases where division by zero might occur."
   ]
  },
  {
   "cell_type": "code",
   "execution_count": null,
   "metadata": {},
   "outputs": [],
   "source": [
    "# Function to calculate voltage using Ohm's Law (V = I * R)\n",
    "def calculate_voltage(current, resistance):\n",
    "    return current * resistance\n",
    "\n",
    "# Function to calculate current using Ohm's Law (I = V / R)\n",
    "def calculate_current(voltage, resistance):\n",
    "    # Handle division by zero\n",
    "    if resistance == 0:\n",
    "        return \"Invalid! Resistance cannot be zero.\"\n",
    "    return voltage / resistance\n",
    "\n",
    "# Function to calculate resistance using Ohm's Law (R = V / I)\n",
    "def calculate_resistance(voltage, current):\n",
    "    # Handle division by zero\n",
    "    if current == 0:\n",
    "        return \"Invalid! Current cannot be zero.\"\n",
    "    return voltage / current\n",
    "\n",
    "# Ask the user what they want to calculate\n",
    "choice = input(\"What do you want to calculate? (Voltage / Current / Resistance): \").strip().lower()\n",
    "\n",
    "# Perform the appropriate calculation based on the user's choice\n",
    "if choice == \"voltage\":\n",
    "    current = float(input(\"Enter the current (I) in amperes: \"))\n",
    "    resistance = float(input(\"Enter the resistance (R) in ohms: \"))\n",
    "    voltage = calculate_voltage(current, resistance)\n",
    "    print(f\"The voltage (V) is: {voltage:.2f} volts\")\n",
    "\n",
    "elif choice == \"current\":\n",
    "    voltage = float(input(\"Enter the voltage (V) in volts: \"))\n",
    "    resistance = float(input(\"Enter the resistance (R) in ohms: \"))\n",
    "    result = calculate_current(voltage, resistance)\n",
    "    print(f\"The current (I) is: {result:.2f} amperes\")\n",
    "\n",
    "elif choice == \"resistance\":\n",
    "    voltage = float(input(\"Enter the voltage (V) in volts: \"))\n",
    "    current = float(input(\"Enter the current (I) in amperes: \"))\n",
    "    result = calculate_resistance(voltage, current)\n",
    "    print(f\"The resistance (R) is: {result:.2f} ohms\")\n",
    "\n",
    "else:\n",
    "    print(\"Invalid choice! Please select 'Voltage', 'Current', or 'Resistance'.\")"
   ]
  },
  {
   "cell_type": "markdown",
   "metadata": {},
   "source": [
    "# Exercise 3:  Diamond Shape (advance topic):\n",
    "Write a Python function named print_diamond that takes an odd integer n as an argument and prints a diamond shape with a width of n using the * character.\n",
    "For n = 5, the output should be:\n",
    "   *\n",
    "  ***\n",
    " *****\n",
    "  ***\n",
    "   *\n",
    "Note: If an even number is passed, the function should return \"Please provide an odd integer.\""
   ]
  }
 ],
 "metadata": {
  "kernelspec": {
   "display_name": "Python 3",
   "language": "python",
   "name": "python3"
  },
  "language_info": {
   "codemirror_mode": {
    "name": "ipython",
    "version": 3
   },
   "file_extension": ".py",
   "mimetype": "text/x-python",
   "name": "python",
   "nbconvert_exporter": "python",
   "pygments_lexer": "ipython3",
   "version": "3.12.0"
  }
 },
 "nbformat": 4,
 "nbformat_minor": 2
}
