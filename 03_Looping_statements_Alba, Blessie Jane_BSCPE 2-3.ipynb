{
 "cells": [
  {
   "cell_type": "markdown",
   "metadata": {},
   "source": [
    "# Lab 2 Exercise 1\n",
    "\n",
    "A teacher named Mrs. Rivera who loved making math fun for her students. One day, a student named Mia asked how to calculate powers, like (2^7). Mrs. Rivera explained, “Imagine you need to multiply 2 by itself seven times. We can solve this using a python code utilizing  special method called recursion to solve this,” \n",
    "\n",
    "Can you help the class of Mrs. Rivera by providing the recursive method to calculate powers?"
   ]
  },
  {
   "cell_type": "code",
   "execution_count": null,
   "metadata": {},
   "outputs": [],
   "source": [
    "def power(base, exponent):\n",
    "    # Any number raised to the power of 0 is 1\n",
    "    if exponent == 0:\n",
    "        return 1\n",
    "    # Multiply the base with the result of power\n",
    "    else:\n",
    "        return base * power(base, exponent - 1)\n",
    "\n",
    "# Get user input for base and exponent\n",
    "base = int(input(\"Enter the base: \"))\n",
    "exponent = int(input(\"Enter the exponent: \"))\n",
    "\n",
    "# Print the result\n",
    "result = power(base, exponent)\n",
    "print(f\"The result of {base}^{exponent} is {result}\")"
   ]
  },
  {
   "cell_type": "markdown",
   "metadata": {},
   "source": [
    "# Lab 2 Exercise 2\n",
    "Compute for the cube of integers.\n",
    "\n",
    "Steps:\n",
    "1. Input the size of the array.\n",
    "2. Input the elements of the array\n",
    "3. Display the cube of each element\n",
    "\n",
    "Sample output\n",
    "\n",
    "Enter the size of the array : 3\n",
    "\n",
    "Enter the elements separated by space: 3 10 20\n",
    "\n",
    "27\n",
    "\n",
    "1000\n",
    "\n",
    "8000"
   ]
  },
  {
   "cell_type": "code",
   "execution_count": null,
   "metadata": {},
   "outputs": [],
   "source": [
    "def cube_elements(arr):\n",
    "    return [x**3 for x in arr]\n",
    "\n",
    "# Get the user input for the size of the array\n",
    "size = int(input(\"Enter the size of the array: \"))\n",
    "\n",
    "# Get the user input for the elements of the array\n",
    "arr = list(map(int, input(\"Enter the elements separated by space: \").split()))\n",
    "\n",
    "# Print the cube of each element\n",
    "cubes = cube_elements(arr)\n",
    "for cube in cubes:\n",
    "    print(cube)"
   ]
  },
  {
   "cell_type": "markdown",
   "metadata": {},
   "source": [
    "# Lab 2 Exercise 3 \n",
    "Generate a hollow square based on the + integer input side length n.\n",
    "\n",
    "Sample output\n",
    "\n",
    "Enter the side length of the square: 6\n",
    "xxxxxx\n",
    "x    x\n",
    "x    x\n",
    "x    x\n",
    "x    x\n",
    "xxxxxx"
   ]
  },
  {
   "cell_type": "code",
   "execution_count": 14,
   "metadata": {},
   "outputs": [
    {
     "name": "stdout",
     "output_type": "stream",
     "text": [
      "xxxxxx\n",
      "x    x\n",
      "x    x\n",
      "x    x\n",
      "x    x\n",
      "xxxxxx\n"
     ]
    }
   ],
   "source": [
    "def square(n):\n",
    "    for i in range(n):\n",
    "        if i == 0 or i == n - 1:\n",
    "            # First and last rows are filled with 'x'\n",
    "            print('x' * n)\n",
    "        else:\n",
    "            print('x' + ' ' * (n - 2) + 'x')\n",
    "\n",
    "# Get user input for the side length of the square\n",
    "n = int(input(\"Enter the side length of the square: \"))\n",
    "\n",
    "# Generate the hollow square\n",
    "square(n)\n"
   ]
  },
  {
   "cell_type": "markdown",
   "metadata": {},
   "source": [
    "# Lab 2 Exercise 4\n",
    "Generate an inverted right triangle of height n.\n",
    "\n",
    "Sample output\n",
    "\n",
    "Enter the height of the triangle: 6\n",
    "******\n",
    "*****\n",
    "****\n",
    "***\n",
    "**\n",
    "*"
   ]
  },
  {
   "cell_type": "code",
   "execution_count": null,
   "metadata": {},
   "outputs": [],
   "source": [
    "def inverted_tri(n):\n",
    "    for i in range(n, 0, -1):\n",
    "        print('*' * i)\n",
    "\n",
    "# Get user input for the height of the triangle\n",
    "n = int(input(\"Enter the height of the triangle: \"))\n",
    "\n",
    "# Generate the inverted right triangle\n",
    "inverted_tri(n)"
   ]
  }
 ],
 "metadata": {
  "kernelspec": {
   "display_name": "Python 3",
   "language": "python",
   "name": "python3"
  },
  "language_info": {
   "codemirror_mode": {
    "name": "ipython",
    "version": 3
   },
   "file_extension": ".py",
   "mimetype": "text/x-python",
   "name": "python",
   "nbconvert_exporter": "python",
   "pygments_lexer": "ipython3",
   "version": "3.12.0"
  }
 },
 "nbformat": 4,
 "nbformat_minor": 2
}
