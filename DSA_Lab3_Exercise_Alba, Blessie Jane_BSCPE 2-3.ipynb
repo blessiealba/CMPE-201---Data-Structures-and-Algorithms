{
 "cells": [
  {
   "cell_type": "markdown",
   "metadata": {},
   "source": [
    "## Lab exercise 1\n",
    "\n",
    "from a given list of integers, create a new list using comprehension that will compute the square of odd integer elements.\n",
    "\n",
    "sample calls\n",
    "\n",
    "[2,4,3] == [9]\n",
    "[0,0,1,1] == [1,1]\n"
   ]
  },
  {
   "cell_type": "code",
   "execution_count": null,
   "metadata": {},
   "outputs": [],
   "source": [
    "# List comprehension that will compute the square of odd integer elements\n",
    "square_of_odd1 = [x**2 for x in [2,4,3] if x % 2 != 0]    \n",
    "square_of_odd2 = [x**2 for x in [0,0,1,1] if x % 2 != 0] \n",
    "\n",
    "# Print the output\n",
    "print(square_of_odd1)\n",
    "print(square_of_odd2)"
   ]
  },
  {
   "cell_type": "markdown",
   "metadata": {},
   "source": [
    "## Lab exercise 2\n",
    "\n",
    "Using comprehension,create a new list of tuples from two given lists:\n",
    "\n",
    "### sample calls\n",
    "\n",
    "list1[1,2,3]\n",
    "list2[\"mark\",\"alice\",\"john]\n",
    "\n",
    "result: listOfTuple[(1,\"mark\"),(2,\"alice\"),(3,\"john\")] "
   ]
  },
  {
   "cell_type": "code",
   "execution_count": null,
   "metadata": {},
   "outputs": [],
   "source": [
    "# List of x and y\n",
    "x = [1, 2, 3]\n",
    "y = [\"mark\", \"alice\", \"john\"]\n",
    "\n",
    "# List comprehension to create a list of tuples by pairing elements from two lists\n",
    "list = [(a, b) for a, b in zip(x, y)]\n",
    "\n",
    "# Print the output\n",
    "print(\"List of Tuple\", list)"
   ]
  },
  {
   "cell_type": "markdown",
   "metadata": {},
   "source": [
    "## Lab exercise 3\n",
    "### Provide a list comprehension that implementation for a function called vowelsToUpper with the following signature:\n",
    "\n",
    "method name : vowelsToUpper\n",
    "\n",
    "input argument : String \n",
    "\n",
    "return argument : String\n",
    "\n",
    "vowelsToUpper must return a version of its String argument with all its vowels changed to their uppercase forms. Nonvowel characters stay as is.\n",
    "\n",
    "### Sample Calls\n",
    "\n",
    "vowelsToUpper \"\" == \"\"\n",
    "\n",
    "vowelsToUpper \"Hello, world!\" == \"HEllO, wOrld!\"\n",
    "\n",
    "vowelsToUpper \"hello hi bye\" == \"hEllO hI byE\""
   ]
  },
  {
   "cell_type": "code",
   "execution_count": null,
   "metadata": {},
   "outputs": [],
   "source": [
    "def vowelsToUpper(x):\n",
    "    # Convert all vowels in the string to uppercase\n",
    "    vowels = \"aeiouAEIOU\"  \n",
    "    return ''.join([char.upper() if char in vowels else char for char in x])\n",
    "\n",
    "# Print the output\n",
    "print(vowelsToUpper(\"\"))  \n",
    "print(vowelsToUpper(\"Hello, world!\"))  \n",
    "print(vowelsToUpper(\"hello hi bye\"))   "
   ]
  }
 ],
 "metadata": {
  "kernelspec": {
   "display_name": "Python 3",
   "language": "python",
   "name": "python3"
  },
  "language_info": {
   "codemirror_mode": {
    "name": "ipython",
    "version": 3
   },
   "file_extension": ".py",
   "mimetype": "text/x-python",
   "name": "python",
   "nbconvert_exporter": "python",
   "pygments_lexer": "ipython3",
   "version": "3.12.0"
  }
 },
 "nbformat": 4,
 "nbformat_minor": 2
}
